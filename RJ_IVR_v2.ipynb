{
 "cells": [
  {
   "cell_type": "code",
   "execution_count": 176,
   "id": "8915d31c",
   "metadata": {},
   "outputs": [
    {
     "name": "stdout",
     "output_type": "stream",
     "text": [
      "Defaulting to user installation because normal site-packages is not writeable\n",
      "Collecting srsly\n",
      "  Downloading srsly-2.4.8-cp39-cp39-win_amd64.whl (483 kB)\n",
      "Collecting catalogue<2.1.0,>=2.0.3\n",
      "  Downloading catalogue-2.0.10-py3-none-any.whl (17 kB)\n",
      "Installing collected packages: catalogue, srsly\n",
      "Successfully installed catalogue-2.0.10 srsly-2.4.8\n"
     ]
    }
   ],
   "source": [
    "!pip install srsly"
   ]
  },
  {
   "cell_type": "code",
   "execution_count": 185,
   "id": "f8eba050",
   "metadata": {},
   "outputs": [],
   "source": [
    "import pandas\n",
    "import numpy as np\n",
    "import json\n",
    "import glob\n",
    "import os\n",
    "import srsly\n",
    "from collections import Counter"
   ]
  },
  {
   "cell_type": "code",
   "execution_count": 210,
   "id": "f49b9a18",
   "metadata": {},
   "outputs": [],
   "source": [
    "all_ac_files = glob.glob(rf\"D:\\rncloud\\Rajasthan2023IVRS\\ac_*\\AC*.xlsx\")"
   ]
  },
  {
   "cell_type": "code",
   "execution_count": 198,
   "id": "9854642e",
   "metadata": {},
   "outputs": [],
   "source": [
    "all_ac_files = glob.glob(rf\"D:\\rncloud\\Rajasthan2023IVRS\\ac_*\\AC*.xlsx\")\n",
    "\n",
    "df1 = pandas.DataFrame()\n",
    "for x in all_ac_files:\n",
    "    df = pandas.read_excel(x)\n",
    "    df1 = pandas.concat([df1,df])"
   ]
  },
  {
   "cell_type": "code",
   "execution_count": 200,
   "id": "0313e753",
   "metadata": {},
   "outputs": [],
   "source": [
    "df1.loc[df1['Extention Key'] == 'A','Extention Key'] = '2'\n",
    "df1['acno'] = 'ac_' +  df1['CampaignName'].str.slice(-3)\n",
    "df1['Extention Key'] = df1['Extention Key'].fillna(0)"
   ]
  },
  {
   "cell_type": "code",
   "execution_count": null,
   "id": "ab2d3a7b",
   "metadata": {},
   "outputs": [],
   "source": []
  },
  {
   "cell_type": "code",
   "execution_count": 253,
   "id": "8b9443ed",
   "metadata": {},
   "outputs": [],
   "source": [
    "df1 = pandas.read_csv(fr\"C:\\Users\\namit\\Downloads\\IVR.csv\")"
   ]
  },
  {
   "cell_type": "code",
   "execution_count": 254,
   "id": "d52266b0",
   "metadata": {},
   "outputs": [],
   "source": [
    "df1.loc[df1['Extention Key'].isin(['A', 'B', 'C']), 'Extention Key'] = '2'\n",
    "df1.loc[df1['Extention Key'].isin(['D', 'E', 'F']), 'Extention Key'] = '3'\n",
    "df1.loc[df1['Extention Key'].isin(['G', 'H', 'I']), 'Extention Key'] = '4'\n",
    "df1.loc[df1['Extention Key'].isin(['J', 'K', 'L']), 'Extention Key'] = '5'\n",
    "df1.loc[df1['Extention Key'].isin(['M', 'N', 'O']), 'Extention Key'] = '6'\n",
    "df1.loc[df1['Extention Key'].isin(['W', 'X', 'Y', 'Z']), 'Extention Key'] = '9'"
   ]
  },
  {
   "cell_type": "code",
   "execution_count": 383,
   "id": "d0382f88",
   "metadata": {},
   "outputs": [
    {
     "data": {
      "text/plain": [
       "array(['ac_002', 'ac_013', 'ac_020', 'ac_024', 'ac_027', 'ac_032',\n",
       "       'ac_033', 'ac_055', 'ac_063', 'ac_071', 'ac_072', 'ac_079',\n",
       "       'ac_092', 'ac_097', 'ac_114', 'ac_136', 'ac_144', 'ac_169',\n",
       "       'ac_176', 'ac_179', 'ac_183'], dtype=object)"
      ]
     },
     "execution_count": 383,
     "metadata": {},
     "output_type": "execute_result"
    }
   ],
   "source": [
    "ac_no = df1['CampaignName'].unique()\n",
    "ac_no"
   ]
  },
  {
   "cell_type": "code",
   "execution_count": 393,
   "id": "085c0217",
   "metadata": {},
   "outputs": [],
   "source": [
    "def candsupport(ac, json_pathname):\n",
    "    \n",
    "    extensions = [str(int(x)) for x in ac['Extention Key'] if x not in ('*', '#', '0', 'M','N', 'O','P','Q','R','S','T','U','V', np.nan)]\n",
    "    extension_counts = dict(Counter(extensions))\n",
    "    sorted(extension_counts.items(), key=lambda x : x[1], reverse = True)\n",
    "\n",
    "    choice_path = json_pathname\n",
    "\n",
    "    choice = srsly.read_json(choice_path)\n",
    "    \n",
    "#     with open(choice_path) as json_file:\n",
    "#         choice = json.load(json_file)\n",
    "\n",
    "\n",
    "\n",
    "    choice_key = {}\n",
    "    for key, value in extension_counts.items():\n",
    "        if key == '9':\n",
    "            key = 'Others'\n",
    "            choice_key[key] = int(value)\n",
    "        elif key in choice.keys():\n",
    "            for key1, value1 in choice.items():\n",
    "                if key == key1:\n",
    "                    key = value1\n",
    "                    choice_key[key] = int(value)\n",
    "        else:\n",
    "            continue\n",
    "\n",
    "    choice_key = dict(sorted(choice_key.items(), key = lambda x : x[1], reverse = True))\n",
    "    \n",
    "\n",
    "\n",
    "    total = sum(choice_key.values())\n",
    "\n",
    "    support = {}\n",
    "    #support['name'] = ['% vote','vote']\n",
    "    for i,j in choice_key.items():\n",
    "        support[i] = str(round((j/total) * 100, 2)) + \"%\"\n",
    "    #support['Total'] = ['100%',total]    \n",
    "    \n",
    "    return support"
   ]
  },
  {
   "cell_type": "code",
   "execution_count": 394,
   "id": "a990e814",
   "metadata": {},
   "outputs": [
    {
     "name": "stdout",
     "output_type": "stream",
     "text": [
      "D:\\rncloud\\Rajasthan2023IVRS\\ac_002\\choices.json\n",
      "['D:\\\\rncloud\\\\Rajasthan2023IVRS\\\\ac_002\\\\choices.json']\n",
      "D:\\rncloud\\Rajasthan2023IVRS\\ac_013\\choices.json\n",
      "['D:\\\\rncloud\\\\Rajasthan2023IVRS\\\\ac_013\\\\choices.json']\n",
      "D:\\rncloud\\Rajasthan2023IVRS\\ac_020\\choices.json\n",
      "['D:\\\\rncloud\\\\Rajasthan2023IVRS\\\\ac_020\\\\choices.json']\n",
      "D:\\rncloud\\Rajasthan2023IVRS\\ac_024\\choices.json\n",
      "['D:\\\\rncloud\\\\Rajasthan2023IVRS\\\\ac_024\\\\choices.json']\n",
      "D:\\rncloud\\Rajasthan2023IVRS\\ac_027\\choices.json\n",
      "['D:\\\\rncloud\\\\Rajasthan2023IVRS\\\\ac_027\\\\choices.json']\n",
      "D:\\rncloud\\Rajasthan2023IVRS\\ac_032\\choices.json\n",
      "['D:\\\\rncloud\\\\Rajasthan2023IVRS\\\\ac_032\\\\choices.json']\n",
      "D:\\rncloud\\Rajasthan2023IVRS\\ac_033\\choices.json\n",
      "['D:\\\\rncloud\\\\Rajasthan2023IVRS\\\\ac_033\\\\choices.json']\n",
      "D:\\rncloud\\Rajasthan2023IVRS\\ac_055\\choices.json\n",
      "['D:\\\\rncloud\\\\Rajasthan2023IVRS\\\\ac_055\\\\choices.json']\n",
      "D:\\rncloud\\Rajasthan2023IVRS\\ac_063\\choices.json\n",
      "['D:\\\\rncloud\\\\Rajasthan2023IVRS\\\\ac_063\\\\choices.json']\n",
      "D:\\rncloud\\Rajasthan2023IVRS\\ac_071\\choices.json\n",
      "['D:\\\\rncloud\\\\Rajasthan2023IVRS\\\\ac_071\\\\choices.json']\n",
      "D:\\rncloud\\Rajasthan2023IVRS\\ac_072\\choices.json\n",
      "['D:\\\\rncloud\\\\Rajasthan2023IVRS\\\\ac_072\\\\choices.json']\n",
      "D:\\rncloud\\Rajasthan2023IVRS\\ac_079\\choices.json\n",
      "['D:\\\\rncloud\\\\Rajasthan2023IVRS\\\\ac_079\\\\choices.json']\n",
      "D:\\rncloud\\Rajasthan2023IVRS\\ac_092\\choices.json\n",
      "['D:\\\\rncloud\\\\Rajasthan2023IVRS\\\\ac_092\\\\choices.json']\n",
      "D:\\rncloud\\Rajasthan2023IVRS\\ac_097\\choices.json\n",
      "['D:\\\\rncloud\\\\Rajasthan2023IVRS\\\\ac_097\\\\choices.json']\n",
      "D:\\rncloud\\Rajasthan2023IVRS\\ac_114\\choices.json\n",
      "['D:\\\\rncloud\\\\Rajasthan2023IVRS\\\\ac_114\\\\choices.json']\n",
      "D:\\rncloud\\Rajasthan2023IVRS\\ac_136\\choices.json\n",
      "['D:\\\\rncloud\\\\Rajasthan2023IVRS\\\\ac_136\\\\choices.json']\n",
      "D:\\rncloud\\Rajasthan2023IVRS\\ac_144\\choices.json\n",
      "['D:\\\\rncloud\\\\Rajasthan2023IVRS\\\\ac_144\\\\choices.json']\n",
      "D:\\rncloud\\Rajasthan2023IVRS\\ac_169\\choices.json\n",
      "['D:\\\\rncloud\\\\Rajasthan2023IVRS\\\\ac_169\\\\choices.json']\n",
      "D:\\rncloud\\Rajasthan2023IVRS\\ac_176\\choices.json\n",
      "['D:\\\\rncloud\\\\Rajasthan2023IVRS\\\\ac_176\\\\choices.json']\n",
      "D:\\rncloud\\Rajasthan2023IVRS\\ac_179\\choices.json\n",
      "['D:\\\\rncloud\\\\Rajasthan2023IVRS\\\\ac_179\\\\choices.json']\n",
      "D:\\rncloud\\Rajasthan2023IVRS\\ac_183\\choices.json\n",
      "['D:\\\\rncloud\\\\Rajasthan2023IVRS\\\\ac_183\\\\choices.json']\n"
     ]
    }
   ],
   "source": [
    "ac_support = {}\n",
    "for index,name in enumerate(ac_no):\n",
    "    df3 = df1[df1['CampaignName'] == name]\n",
    "    path = \"D:\\\\rncloud\\\\Rajasthan2023IVRS\\\\\"+name+\"\\\\choices.json\"\n",
    "    json_pathname = glob.glob(path)\n",
    "    print(path)\n",
    "    print(json_pathname)\n",
    "    result = candsupport(df3,json_pathname[0])\n",
    "    #print(name[-3:])\n",
    "    ac_support[name[-3:]] = result "
   ]
  },
  {
   "cell_type": "code",
   "execution_count": 395,
   "id": "8439ad73",
   "metadata": {},
   "outputs": [
    {
     "data": {
      "text/plain": [
       "{'002': {'Jaydeep Bihani (BJP)': '39.05%',\n",
       "  'ASHOK CHANDAK (Congress)': '28.8%',\n",
       "  'RAJ KUMAR GAUR (IND)': '13.91%',\n",
       "  'Others': '10.16%',\n",
       "  'Dr. Harish Raheja (AAP)': '4.54%',\n",
       "  'Vinita Ahuja (IND)': '3.55%'},\n",
       " '013': {'Jethanand Vyas (BJP)': '49.78%',\n",
       "  'BULAKI DAS KALLA (Congress)': '35.29%',\n",
       "  'Mahaveer Raka (IND)': '6.46%',\n",
       "  'Others': '4.45%',\n",
       "  'Manish Sharma (AAP)': '2.01%',\n",
       "  'Gokul Joshi (IND)': '2.01%'},\n",
       " '020': {'Rajendra Rathore (BJP)': '47.5%',\n",
       "  'NARENDRA BUDANIYA (Congress)': '42.09%',\n",
       "  'Others': '5.64%',\n",
       "  'RAKESH JANGID (IND)': '3.14%',\n",
       "  'Chhoturam (BSP)': '1.63%'},\n",
       " '024': {'MANOJ MEGHWAL (Congress)': '40.48%',\n",
       "  'SANTOSH MEGHWAL (BJP)': '37.14%',\n",
       "  'Others': '15.0%',\n",
       "  'BL Bhati (IND)': '7.38%'},\n",
       " '027': {'BRIJENDRA SINGH OLA (Congress)': '38.51%',\n",
       "  'Nischit aka Bablu Chaudhary (BJP)': '30.94%',\n",
       "  'RAJENDRA SINGH BHAMBOO (IND)': '19.84%',\n",
       "  'Others': '10.71%'},\n",
       " '032': {'HAKAM ALI KHAN (Congress)': '41.67%',\n",
       "  'Shravan Chaudhary (BJP)': '27.78%',\n",
       "  'Nand Kishore Mahariya (JJP)': '16.67%',\n",
       "  'Others': '8.33%',\n",
       "  'Javed Ali Khan (AIMIM)': '5.56%'},\n",
       " '033': {'Subhash Maheriya (BJP)': '45.83%',\n",
       "  'GOVIND SINGH DOTASARA M (Congress)': '41.67%',\n",
       "  'Others': '8.33%',\n",
       "  'Comrade Amra Ram (CPI)': '4.17%'},\n",
       " '055': {'Pushpendra Bharadwaj (Congress)': '50.62%',\n",
       "  'Bhajanlal Sharma (BJP)': '43.21%',\n",
       "  'Others': '3.7%',\n",
       "  'Mahesh Saini (RLP)': '2.47%'},\n",
       " '063': {'SHAKUNTALA RAWAT (Congress)': '39.13%',\n",
       "  'DEVI SINGH SHEKHAWAT (BJP)': '36.96%',\n",
       "  'Others': '10.87%',\n",
       "  'Mahendra Yadav (IND)': '6.52%',\n",
       "  'Mukesh Yadav (BSP)': '4.35%',\n",
       "  'Dr. Rohitash Sharma (IND)': '2.17%'},\n",
       " '071': {'Jawahar Singh Bedam (BJP)': '38.64%',\n",
       "  'WAJIB ALI (Congress)': '33.36%',\n",
       "  'Nem Singh (IND)': '16.55%',\n",
       "  'Others': '5.18%',\n",
       "  'Anita Singh Gurjar (IND)': '3.27%',\n",
       "  'Khurshid Ahmad (BSP)': '3.0%'},\n",
       " '072': {'DR. SHAILESH SINGH (BJP)': '44.92%',\n",
       "  'VISHVENDRA SINGH (Congress)': '42.92%',\n",
       "  'Others': '7.81%',\n",
       "  'Hariom Sharma (BSP)': '4.35%'},\n",
       " '079': {'DR. SHIV CHARAN SINGH KUSHAWAH (BJP)': '33.53%',\n",
       "  'SHOBHARANI KUSHWAH (Congress)': '30.76%',\n",
       "  'Ritesh Sharma (BSP)': '26.54%',\n",
       "  'Others': '9.17%'},\n",
       " '092': {'DR. KIRORI LAL MEENA (BJP)': '38.2%',\n",
       "  'DANISH ABRAR (Congress)': '25.59%',\n",
       "  'ASHA MEENA (IND)': '23.79%',\n",
       "  'Others': '7.3%',\n",
       "  'Mukesh Bhupremi (AAP)': '3.51%',\n",
       "  'Brahmsingh Gurjar (BSP)': '1.61%'},\n",
       " '097': {'HARISH CHANDRA MEENA M (Congress)': '38.39%',\n",
       "  'VIJAY BAINSLA (BJP)': '34.12%',\n",
       "  'Others': '12.8%',\n",
       "  'PRABHU LAL SAINI (IND)': '5.69%',\n",
       "  'RAJENDRA GURJAR (IND)': '5.21%',\n",
       "  'Dr. Rajendra Singh Meena (AAP)': '3.79%'},\n",
       " '114': {'RAMNIWAS GAWRIYA (Congress)': '44.8%',\n",
       "  'MAN SINGH KINSARIYA (BJP)': '24.8%',\n",
       "  'LACHCHARAM BADARHA (RLP)': '22.4%',\n",
       "  'Others': '8.0%'},\n",
       " '136': {'HARISH CHOUDHARY (Congress)': '37.84%',\n",
       "  'Balram Mund (BJP)': '29.12%',\n",
       "  'UMMEDA RAM (RLTP)': '26.37%',\n",
       "  'Others': '6.67%'},\n",
       " '144': {'SUKHRAM VISHNOI (Congress)': '35.66%',\n",
       "  'JEEVA RAM CHOUDHARY (BJP)': '31.59%',\n",
       "  'DANA RAM CHOUDHARY (BJP)': '13.97%',\n",
       "  'DEVJI PATEL (BJP)': '10.99%',\n",
       "  'Others': '5.97%',\n",
       "  'Ram Lal Vishnoi (AAP)': '1.82%'},\n",
       " '169': {'CHANDRABHAN SINGH AAKYA (IND)': '58.12%',\n",
       "  'SURENDRA SINGH JADAWAT (Congress)': '23.07%',\n",
       "  'NARPAT SINGH RAJVI (BJP)': '14.03%',\n",
       "  'Others': '4.78%'},\n",
       " '176': {'C. P. JOSHI (Congress)': '49.02%',\n",
       "  'Kunwar Vishwaraj Singh Mewar  (BJP)': '42.52%',\n",
       "  'Others': '6.94%',\n",
       "  'Babulal Salvi (BSP)': '1.52%'},\n",
       " '179': {'Ladulal Pitalia (BJP)': '58.12%',\n",
       "  'Rajendra Trivedi (Congress)': '26.39%',\n",
       "  'Badrilal Jat (RLP)': '9.84%',\n",
       "  'Others': '5.65%'},\n",
       " '183': {'VIVEK DHAKAR (Congress)': '44.12%',\n",
       "  'GOPAL LAL SHARMA (BJP)': '30.88%',\n",
       "  'SHAKTI SINGH HADA (IND)': '17.65%',\n",
       "  'Others': '7.35%'}}"
      ]
     },
     "execution_count": 395,
     "metadata": {},
     "output_type": "execute_result"
    }
   ],
   "source": [
    "ac_support"
   ]
  },
  {
   "cell_type": "code",
   "execution_count": 376,
   "id": "f806e887",
   "metadata": {},
   "outputs": [],
   "source": [
    "dff = pandas.DataFrame([(cont, cand) for cont, cand in ac_support.items()], columns=['Constituency', 'Candidate'])"
   ]
  },
  {
   "cell_type": "code",
   "execution_count": 375,
   "id": "b2e778ea",
   "metadata": {},
   "outputs": [],
   "source": [
    "ac_name = pandas.read_excel(fr\"D:\\rajasthan\\AC no and names.xlsx\")\n",
    "ac_name['AC No'] = ac_name['AC No'].astype(str)\n",
    "ac_name['AC No'] = ac_name['AC No'].str.zfill(3)"
   ]
  },
  {
   "cell_type": "code",
   "execution_count": 374,
   "id": "766e5776",
   "metadata": {},
   "outputs": [],
   "source": [
    "dff['AC Name'] = [(row1['AC Name']) for index, row in dff.iterrows() for index1, row1 in ac_name.iterrows() if row['Constituency'] == row1['AC No']] \n",
    "dff = dff.iloc[:,[0,2,1]]"
   ]
  },
  {
   "cell_type": "code",
   "execution_count": 373,
   "id": "0e0b220d",
   "metadata": {},
   "outputs": [],
   "source": [
    "dff['Candidate'] = dff['Candidate'].apply(lambda x: '\\n'.join([f'{k}: {v}' for k, v in x.items()]))"
   ]
  },
  {
   "cell_type": "code",
   "execution_count": 369,
   "id": "b9e5be3a",
   "metadata": {},
   "outputs": [],
   "source": [
    "dff1.to_excel(r'D:\\rncloud\\IVR_report\\IVRnew.xlsx', index=False)"
   ]
  },
  {
   "cell_type": "markdown",
   "id": "b4b9a01b",
   "metadata": {},
   "source": [
    "# Cost calculation"
   ]
  },
  {
   "cell_type": "code",
   "execution_count": null,
   "id": "bed01e19",
   "metadata": {},
   "outputs": [],
   "source": [
    "#COST CALCULATION\n",
    "\n",
    "All_answered = (df1['Call Status'].value_counts()['ANSWERED'])\n",
    "print(All_answered)\n",
    "\n",
    "condition = df1['CallDuration'] > 30\n",
    "filtered_df = df1[condition]\n",
    "Above_30sec_ans = (filtered_df['Call Status'].value_counts())\n",
    "print(Above_30sec_ans)\n",
    "\n",
    "\n",
    "cost1 = Above_30sec_ans * 0.25\n",
    "print(cost1)\n",
    "cost2 = (All_answered - Above_30sec_ans) * 0.50\n",
    "print(cost2)\n",
    "Total_cost = cost1 + cost2\n",
    "print(Total_cost)"
   ]
  }
 ],
 "metadata": {
  "kernelspec": {
   "display_name": "Python 3 (ipykernel)",
   "language": "python",
   "name": "python3"
  },
  "language_info": {
   "codemirror_mode": {
    "name": "ipython",
    "version": 3
   },
   "file_extension": ".py",
   "mimetype": "text/x-python",
   "name": "python",
   "nbconvert_exporter": "python",
   "pygments_lexer": "ipython3",
   "version": "3.9.12"
  }
 },
 "nbformat": 4,
 "nbformat_minor": 5
}
